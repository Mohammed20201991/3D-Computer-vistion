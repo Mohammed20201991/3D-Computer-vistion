{
 "cells": [
  {
   "cell_type": "code",
   "execution_count": 2,
   "id": "504402db",
   "metadata": {},
   "outputs": [
    {
     "name": "stdout",
     "output_type": "stream",
     "text": [
      "Collecting opencv-python\n",
      "  Downloading opencv_python-4.5.4.58-cp38-cp38-win_amd64.whl (35.1 MB)\n",
      "Requirement already satisfied: numpy>=1.17.3 in c:\\users\\mohammed\\anaconda3\\lib\\site-packages (from opencv-python) (1.20.1)\n",
      "Installing collected packages: opencv-python\n",
      "Successfully installed opencv-python-4.5.4.58\n"
     ]
    }
   ],
   "source": [
    "! pip install opencv-python"
   ]
  },
  {
   "cell_type": "code",
   "execution_count": 11,
   "id": "5eb97c45",
   "metadata": {},
   "outputs": [
    {
     "name": "stdout",
     "output_type": "stream",
     "text": [
      "Requirement already satisfied: imutils in c:\\users\\mohammed\\anaconda3\\lib\\site-packages (0.5.4)\n"
     ]
    }
   ],
   "source": [
    "!pip install imutils"
   ]
  },
  {
   "cell_type": "code",
   "execution_count": 8,
   "id": "2cbd1204",
   "metadata": {},
   "outputs": [
    {
     "name": "stdout",
     "output_type": "stream",
     "text": [
      "Images could not be stitched!\n",
      "Likely not enough keypoints being detected!\n"
     ]
    }
   ],
   "source": [
    "import numpy as np\n",
    "import cv2\n",
    "import glob\n",
    "import imutils\n",
    "\n",
    "image_paths = glob.glob('unstitchedImages/*.jpg')\n",
    "images = []\n",
    "\n",
    "\n",
    "for image in image_paths:\n",
    "    img = cv2.imread(image)\n",
    "    images.append(img)\n",
    "    cv2.imshow(\"Image\", img)\n",
    "    cv2.waitKey(0)\n",
    "\n",
    "\n",
    "imageStitcher = cv2.Stitcher_create()\n",
    "\n",
    "error, stitched_img = imageStitcher.stitch(images)\n",
    "\n",
    "if not error:\n",
    "\n",
    "    cv2.imwrite(\"stitchedOutput.png\", stitched_img)\n",
    "    cv2.imshow(\"Stitched Img\", stitched_img)\n",
    "    cv2.waitKey(0)\n",
    "\n",
    "\n",
    "\n",
    "\n",
    "    stitched_img = cv2.copyMakeBorder(stitched_img, 10, 10, 10, 10, cv2.BORDER_CONSTANT, (0,0,0))\n",
    "\n",
    "    gray = cv2.cvtColor(stitched_img, cv2.COLOR_BGR2GRAY)\n",
    "    thresh_img = cv2.threshold(gray, 0, 255 , cv2.THRESH_BINARY)[1]\n",
    "\n",
    "    cv2.imshow(\"Threshold Image\", thresh_img)\n",
    "    cv2.waitKey(0)\n",
    "\n",
    "    contours = cv2.findContours(thresh_img.copy(), cv2.RETR_EXTERNAL, cv2.CHAIN_APPROX_SIMPLE)\n",
    "\n",
    "    contours = imutils.grab_contours(contours)\n",
    "    areaOI = max(contours, key=cv2.contourArea)\n",
    "\n",
    "    mask = np.zeros(thresh_img.shape, dtype=\"uint8\")\n",
    "    x, y, w, h = cv2.boundingRect(areaOI)\n",
    "    cv2.rectangle(mask, (x,y), (x + w, y + h), 255, -1)\n",
    "\n",
    "    minRectangle = mask.copy()\n",
    "    sub = mask.copy()\n",
    "\n",
    "    while cv2.countNonZero(sub) > 0:\n",
    "        minRectangle = cv2.erode(minRectangle, None)\n",
    "        sub = cv2.subtract(minRectangle, thresh_img)\n",
    "\n",
    "\n",
    "    contours = cv2.findContours(minRectangle.copy(), cv2.RETR_EXTERNAL, cv2.CHAIN_APPROX_SIMPLE)\n",
    "\n",
    "    contours = imutils.grab_contours(contours)\n",
    "    areaOI = max(contours, key=cv2.contourArea)\n",
    "\n",
    "    cv2.imshow(\"minRectangle Image\", minRectangle)\n",
    "    cv2.waitKey(0)\n",
    "\n",
    "    x, y, w, h = cv2.boundingRect(areaOI)\n",
    "\n",
    "    stitched_img = stitched_img[y:y + h, x:x + w]\n",
    "\n",
    "    cv2.imwrite(\"stitchedOutputProcessed.png\", stitched_img)\n",
    "\n",
    "    cv2.imshow(\"Stitched Image Processed\", stitched_img)\n",
    "\n",
    "    cv2.waitKey(0)\n",
    "\n",
    "\n",
    "\n",
    "else:\n",
    "    print(\"Images could not be stitched!\")\n",
    "    print(\"Likely not enough keypoints being detected!\")"
   ]
  },
  {
   "cell_type": "code",
   "execution_count": 16,
   "id": "3d9d9afd",
   "metadata": {},
   "outputs": [
    {
     "ename": "error",
     "evalue": "OpenCV(4.5.4-dev) D:\\a\\opencv-python\\opencv-python\\opencv\\modules\\imgproc\\src\\color.cpp:182: error: (-215:Assertion failed) !_src.empty() in function 'cv::cvtColor'\n",
     "output_type": "error",
     "traceback": [
      "\u001b[1;31m---------------------------------------------------------------------------\u001b[0m",
      "\u001b[1;31merror\u001b[0m                                     Traceback (most recent call last)",
      "\u001b[1;32m<ipython-input-16-c2b7c7d720f5>\u001b[0m in \u001b[0;36m<module>\u001b[1;34m\u001b[0m\n\u001b[0;32m     23\u001b[0m \u001b[1;33m\u001b[0m\u001b[0m\n\u001b[0;32m     24\u001b[0m \u001b[1;31m# Output img with window name as 'image'\u001b[0m\u001b[1;33m\u001b[0m\u001b[1;33m\u001b[0m\u001b[1;33m\u001b[0m\u001b[0m\n\u001b[1;32m---> 25\u001b[1;33m \u001b[0mcv2\u001b[0m\u001b[1;33m.\u001b[0m\u001b[0mimshow\u001b[0m\u001b[1;33m(\u001b[0m\u001b[1;34m'image'\u001b[0m\u001b[1;33m,\u001b[0m \u001b[0mimg\u001b[0m\u001b[1;33m)\u001b[0m\u001b[1;33m\u001b[0m\u001b[1;33m\u001b[0m\u001b[0m\n\u001b[0m\u001b[0;32m     26\u001b[0m \u001b[1;33m\u001b[0m\u001b[0m\n\u001b[0;32m     27\u001b[0m \u001b[1;31m# Maintain output window utill\u001b[0m\u001b[1;33m\u001b[0m\u001b[1;33m\u001b[0m\u001b[1;33m\u001b[0m\u001b[0m\n",
      "\u001b[1;31merror\u001b[0m: OpenCV(4.5.4-dev) D:\\a\\opencv-python\\opencv-python\\opencv\\modules\\imgproc\\src\\color.cpp:182: error: (-215:Assertion failed) !_src.empty() in function 'cv::cvtColor'\n"
     ]
    }
   ],
   "source": [
    "import os \n",
    "import cv2\n",
    "mainFolder = 'Images\\2\\first.jpg'\n",
    "myFolders = os.listdir(mainFolder)\n",
    "\n",
    "print(myFolders)\n",
    "for folder in myFolders:\n",
    "    path = mainFolder + '/'+ folder\n",
    "    images =[]\n",
    "    myList = os.listdir(path)\n",
    "    print(f'Total number of image detected is : {len(myList)}')\n",
    "    for imgN in myList:\n",
    "        curImg = cv2.imread(f'{path}/{imgN}')\n",
    "        curImg = cv2.resize(curImg,(0,0),(0.2,0.2),None)\n",
    "        images.append(curImg)\n",
    "    print(len(images))"
   ]
  },
  {
   "cell_type": "code",
   "execution_count": null,
   "id": "3a74fe93",
   "metadata": {},
   "outputs": [],
   "source": []
  }
 ],
 "metadata": {
  "kernelspec": {
   "display_name": "Python 3",
   "language": "python",
   "name": "python3"
  },
  "language_info": {
   "codemirror_mode": {
    "name": "ipython",
    "version": 3
   },
   "file_extension": ".py",
   "mimetype": "text/x-python",
   "name": "python",
   "nbconvert_exporter": "python",
   "pygments_lexer": "ipython3",
   "version": "3.8.8"
  }
 },
 "nbformat": 4,
 "nbformat_minor": 5
}
