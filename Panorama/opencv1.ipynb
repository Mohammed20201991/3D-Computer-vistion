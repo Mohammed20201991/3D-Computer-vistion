{
 "cells": [
  {
   "cell_type": "code",
   "execution_count": 1,
   "id": "504402db",
   "metadata": {},
   "outputs": [
    {
     "name": "stdout",
     "output_type": "stream",
     "text": [
      "Requirement already satisfied: opencv-python in c:\\users\\mohammed\\anaconda3\\lib\\site-packages (4.5.4.58)\n",
      "Requirement already satisfied: numpy>=1.17.3 in c:\\users\\mohammed\\anaconda3\\lib\\site-packages (from opencv-python) (1.20.1)\n"
     ]
    }
   ],
   "source": []
  },
  {
   "cell_type": "code",
   "execution_count": 6,
   "id": "3349cf6b",
   "metadata": {},
   "outputs": [
    {
     "name": "stdout",
     "output_type": "stream",
     "text": [
      "Requirement already satisfied: opencv-python in c:\\users\\mohammed\\anaconda3\\lib\\site-packages (4.5.4.58)\n",
      "Requirement already satisfied: numpy>=1.17.3 in c:\\users\\mohammed\\anaconda3\\lib\\site-packages (from opencv-python) (1.20.1)\n"
     ]
    }
   ],
   "source": [
    "! pip install opencv-python"
   ]
  },
  {
   "cell_type": "code",
   "execution_count": 7,
   "id": "5eb97c45",
   "metadata": {},
   "outputs": [
    {
     "name": "stdout",
     "output_type": "stream",
     "text": [
      "Requirement already satisfied: imutils in c:\\users\\mohammed\\anaconda3\\lib\\site-packages (0.5.4)\n"
     ]
    }
   ],
   "source": [
    "!pip install imutils"
   ]
  },
  {
   "cell_type": "code",
   "execution_count": 8,
   "id": "57c945d8",
   "metadata": {},
   "outputs": [],
   "source": [
    "import os \n",
    "import cv2"
   ]
  },
  {
   "cell_type": "code",
   "execution_count": 9,
   "id": "46f7b375",
   "metadata": {},
   "outputs": [],
   "source": [
    "# import os \n",
    "# import cv2\n",
    "# mainFolder = 'Images'\n",
    "# myFolders = os.listdir(mainFolder)\n",
    "\n",
    "# print(myFolders)\n",
    "# for folder in myFolders:\n",
    "#     path = mainFolder + '/'+ folder\n",
    "#     images =[]\n",
    "#     myList = os.listdir(path)\n",
    "#     print(f'Total number of image detected is : {len(myList)}')\n",
    "#     for imgN in myList:\n",
    "#         curImg = cv2.imread(f'{path}/{imgN}')# colered ?\n",
    "#         curImg = cv2.resize(curImg,(0,0),None,0.2,0.2) # our scale to reduce \n",
    "#         images.append(curImg)\n",
    "# #     print(len(images))\n",
    "    \n",
    "#     stitcher = cv2.Stitcher.create()\n",
    "#     (status,result) = stitcher.stitch(images)\n",
    "#     if(status == cv2.STITCHER_OK): # it will check if it can generate panaorama\n",
    "#         print('Generated Panorama')\n",
    "#         cv2.imshow(folder,result)\n",
    "#         cv2.waitKey(1)\n",
    "#     else :\n",
    "#         print('Panorama un succesful')\n",
    "# #         cv2.imshow(folder,result)\n",
    "# #         cv2.waitkey(1)"
   ]
  },
  {
   "cell_type": "markdown",
   "id": "1d39fda6",
   "metadata": {},
   "source": [
    "# Panoramic images"
   ]
  },
  {
   "cell_type": "markdown",
   "id": "10712e81",
   "metadata": {},
   "source": [
    "If you merge two images, you get 2%. Stitching for another pair is 2% again. 1% is given for a third stiching. (Thus, maximum is 5%)"
   ]
  },
  {
   "cell_type": "code",
   "execution_count": 11,
   "id": "3a74fe93",
   "metadata": {},
   "outputs": [],
   "source": [
    "#Read our iamage \n",
    "dim=(1024,768)\n",
    "left=cv2.imread('Images\\Left.jpg',cv2.IMREAD_COLOR)\n",
    "left=cv2.resize(left,dim,interpolation = cv2.INTER_AREA)   #ReSize to (1024,768)\n",
    "right=cv2.imread('Images\\Right.jpg',cv2.IMREAD_COLOR)\n",
    "right=cv2.resize(right,dim,interpolation = cv2.INTER_AREA) #ReSize to (1024,768)\n",
    "mid=cv2.imread('Images\\mid.jpg',cv2.IMREAD_COLOR)\n",
    "mid=cv2.resize(mid,dim,interpolation = cv2.INTER_AREA) #ReSize to (1024,768)\n",
    "extra_img = cv2.imread('Images\\extra_img.jpg',cv2.IMREAD_COLOR)\n",
    "extra_img = cv2.resize(extra_img,dim,interpolation = cv2.INTER_AREA) #ReSize to (1024,768)\n",
    "images=[]\n",
    "images.append(left)\n",
    "images.append(right)\n",
    "images.append(mid)\n",
    "images.append(extra_img)"
   ]
  },
  {
   "cell_type": "code",
   "execution_count": 12,
   "id": "03f607e3",
   "metadata": {},
   "outputs": [],
   "source": [
    "stitcher = cv2.Stitcher.create()\n",
    "ret,pano = stitcher.stitch(images)\n",
    "\n",
    "if ret==cv2.STITCHER_OK:\n",
    "    cv2.imshow('Resulting Image',pano)\n",
    "    cv2.waitKey()\n",
    "    cv2.destroyAllWindows()\n",
    "else:\n",
    "    print(\"Error during Stitching\")"
   ]
  },
  {
   "cell_type": "code",
   "execution_count": null,
   "id": "ddcccc2e",
   "metadata": {},
   "outputs": [],
   "source": []
  }
 ],
 "metadata": {
  "kernelspec": {
   "display_name": "Python 3",
   "language": "python",
   "name": "python3"
  },
  "language_info": {
   "codemirror_mode": {
    "name": "ipython",
    "version": 3
   },
   "file_extension": ".py",
   "mimetype": "text/x-python",
   "name": "python",
   "nbconvert_exporter": "python",
   "pygments_lexer": "ipython3",
   "version": "3.8.8"
  }
 },
 "nbformat": 4,
 "nbformat_minor": 5
}
